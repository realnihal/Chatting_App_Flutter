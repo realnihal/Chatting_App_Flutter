{
  "nbformat": 4,
  "nbformat_minor": 0,
  "metadata": {
    "colab": {
      "name": "PneumoniaDetectionVGG16.ipynb",
      "provenance": [],
      "authorship_tag": "ABX9TyMrgrkglVz0/r98udmV8fmU",
      "include_colab_link": true
    },
    "kernelspec": {
      "name": "python3",
      "display_name": "Python 3"
    },
    "language_info": {
      "name": "python"
    },
    "accelerator": "GPU"
  },
  "cells": [
    {
      "cell_type": "markdown",
      "metadata": {
        "id": "view-in-github",
        "colab_type": "text"
      },
      "source": [
        "<a href=\"https://colab.research.google.com/github/realnihal/Chatting_app_flutter/blob/main/PneumoniaDetectionVGG16.ipynb\" target=\"_parent\"><img src=\"https://colab.research.google.com/assets/colab-badge.svg\" alt=\"Open In Colab\"/></a>"
      ]
    },
    {
      "cell_type": "markdown",
      "metadata": {
        "id": "MtCIoeMGTm1i"
      },
      "source": [
        "## Downloading the Data"
      ]
    },
    {
      "cell_type": "code",
      "metadata": {
        "id": "i3KXOh_tQPuv"
      },
      "source": [
        "from google.colab import files\n",
        "files.upload()"
      ],
      "execution_count": null,
      "outputs": []
    },
    {
      "cell_type": "code",
      "metadata": {
        "id": "sHr4sOGLQwdz"
      },
      "source": [
        "! mkdir ~/.kaggle"
      ],
      "execution_count": 2,
      "outputs": []
    },
    {
      "cell_type": "code",
      "metadata": {
        "id": "PDDiSsA4Sdxn"
      },
      "source": [
        "! cp kaggle.json ~/.kaggle/"
      ],
      "execution_count": 3,
      "outputs": []
    },
    {
      "cell_type": "code",
      "metadata": {
        "id": "z-sykYwMSftM"
      },
      "source": [
        "! chmod 600 ~/.kaggle/kaggle.json"
      ],
      "execution_count": 4,
      "outputs": []
    },
    {
      "cell_type": "code",
      "metadata": {
        "colab": {
          "base_uri": "https://localhost:8080/"
        },
        "id": "818HVXo9Si4O",
        "outputId": "d7e1cbd6-fd1a-4765-c17b-94f36a47d2e3"
      },
      "source": [
        " ! kaggle datasets download paultimothymooney/chest-xray-pneumonia"
      ],
      "execution_count": 5,
      "outputs": [
        {
          "output_type": "stream",
          "name": "stdout",
          "text": [
            "Downloading chest-xray-pneumonia.zip to /content\n",
            "100% 2.29G/2.29G [00:42<00:00, 73.2MB/s]\n",
            "100% 2.29G/2.29G [00:42<00:00, 57.4MB/s]\n"
          ]
        }
      ]
    },
    {
      "cell_type": "code",
      "metadata": {
        "id": "_dcYNtzsSk64"
      },
      "source": [
        "!unzip chest-xray-pneumonia.zip"
      ],
      "execution_count": null,
      "outputs": []
    },
    {
      "cell_type": "markdown",
      "metadata": {
        "id": "FA6eSdeXTqcC"
      },
      "source": [
        "## Data Preprocessing"
      ]
    },
    {
      "cell_type": "code",
      "metadata": {
        "id": "QG5Kx62BUKfx"
      },
      "source": [
        "import os\n",
        "import glob\n",
        "import pandas as pd\n",
        "import numpy as np\n",
        "import seaborn as sns\n",
        "import tensorflow as tf\n",
        "import matplotlib.pyplot as plt\n",
        "from tensorflow import keras\n",
        "from tensorflow.keras.applications import VGG16"
      ],
      "execution_count": 7,
      "outputs": []
    },
    {
      "cell_type": "code",
      "metadata": {
        "id": "_AIIXDM7TXXd"
      },
      "source": [
        "dir_path = \"/content/chest_xray\""
      ],
      "execution_count": 8,
      "outputs": []
    },
    {
      "cell_type": "code",
      "metadata": {
        "id": "0ywgjifpUDEq"
      },
      "source": [
        "train_p = os.path.join(dir_path, \"train\")\n",
        "test_p =os.path.join(dir_path, \"test\")\n",
        "val_p = os.path.join(dir_path, \"val\")"
      ],
      "execution_count": 9,
      "outputs": []
    },
    {
      "cell_type": "code",
      "metadata": {
        "id": "FcBLog4sUI7k"
      },
      "source": [
        "p_train_images = glob.glob(train_p + \"/PNEUMONIA/*.jpeg\")\n",
        "n_train_images = glob.glob(train_p + \"/NORMAL/*.jpeg\")"
      ],
      "execution_count": 10,
      "outputs": []
    },
    {
      "cell_type": "code",
      "metadata": {
        "id": "AEySlU7xUSf2"
      },
      "source": [
        "df = pd.DataFrame(np.concatenate([[0]*len(n_train_images) , [1] *  len(p_train_images)]),columns=[\"class\"])"
      ],
      "execution_count": 11,
      "outputs": []
    },
    {
      "cell_type": "code",
      "metadata": {
        "colab": {
          "base_uri": "https://localhost:8080/",
          "height": 350
        },
        "id": "3nfk76soUcp8",
        "outputId": "0ae0ec14-cfdc-43bd-c891-147f61b3ad7f"
      },
      "source": [
        "sns.countplot(df['class'],data=df)"
      ],
      "execution_count": 12,
      "outputs": [
        {
          "output_type": "stream",
          "name": "stderr",
          "text": [
            "/usr/local/lib/python3.7/dist-packages/seaborn/_decorators.py:43: FutureWarning: Pass the following variable as a keyword arg: x. From version 0.12, the only valid positional argument will be `data`, and passing other arguments without an explicit keyword will result in an error or misinterpretation.\n",
            "  FutureWarning\n"
          ]
        },
        {
          "output_type": "execute_result",
          "data": {
            "text/plain": [
              "<matplotlib.axes._subplots.AxesSubplot at 0x7f5a72b40490>"
            ]
          },
          "metadata": {},
          "execution_count": 12
        },
        {
          "output_type": "display_data",
          "data": {
            "image/png": "[encoded data removed]",
            "text/plain": [
              "<Figure size 432x288 with 1 Axes>"
            ]
          },
          "metadata": {
            "needs_background": "light"
          }
        }
      ]
    },
    {
      "cell_type": "code",
      "metadata": {
        "id": "Nshwh4YfUjAu"
      },
      "source": [
        "# Image Augmentation\n",
        "from tensorflow.keras.preprocessing.image import ImageDataGenerator\n",
        "train_ds = ImageDataGenerator(rescale =1/255, shear_range=10, zoom_range = 0.2, horizontal_flip = True, \n",
        "                              width_shift_range=0.2, fill_mode = 'nearest')\n",
        "\n",
        "val_datagen = ImageDataGenerator(\n",
        "    rescale = 1/255\n",
        ")"
      ],
      "execution_count": 13,
      "outputs": []
    },
    {
      "cell_type": "code",
      "metadata": {
        "id": "txuLzIuTUyZ3",
        "colab": {
          "base_uri": "https://localhost:8080/"
        },
        "outputId": "71aa29f9-757f-4bb9-fd41-cc1852e76e36"
      },
      "source": [
        "''' VGG16 Model '''\n",
        "\n",
        "model1 = VGG16(include_top = False,weights='imagenet')\n",
        "\n",
        "''' freezing layers '''\n",
        "for i in model1.layers:\n",
        "    i.trainable=False\n",
        "    \n",
        "out = model1.output\n",
        "\n",
        "''' GlobalAveragePooling Layer '''\n",
        "out = keras.layers.GlobalAveragePooling2D()(out)\n",
        "out = keras.layers.Dense(128, activation='relu')(out)\n",
        "\n",
        "''' Classification Layer '''\n",
        "pred = keras.layers.Dense(1, activation='sigmoid')(out)\n",
        "\n",
        "''' final model '''\n",
        "model= keras.Model(model1.input, pred)\n",
        "\n",
        "lr = 0.1\n",
        "lr_schedule = tf.keras.optimizers.schedules.ExponentialDecay(lr, decay_steps=100000, decay_rate=0.96, staircase=True)\n",
        "\n",
        "''' Compile the model '''\n",
        "model.compile(loss='binary_crossentropy', optimizer=tf.keras.optimizers.RMSprop(lr_schedule), metrics=['accuracy'])"
      ],
      "execution_count": 14,
      "outputs": [
        {
          "output_type": "stream",
          "name": "stdout",
          "text": [
            "Downloading data from https://storage.googleapis.com/tensorflow/keras-applications/vgg16/vgg16_weights_tf_dim_ordering_tf_kernels_notop.h5\n",
            "58892288/58889256 [==============================] - 1s 0us/step\n",
            "58900480/58889256 [==============================] - 1s 0us/step\n"
          ]
        }
      ]
    },
    {
      "cell_type": "code",
      "metadata": {
        "colab": {
          "base_uri": "https://localhost:8080/"
        },
        "id": "GCyqUP4aVnS2",
        "outputId": "4d67daa3-d379-4e8a-9c52-b3b207ff2a44"
      },
      "source": [
        "model.summary()"
      ],
      "execution_count": 15,
      "outputs": [
        {
          "output_type": "stream",
          "name": "stdout",
          "text": [
            "Model: \"model\"\n",
            "_________________________________________________________________\n",
            "Layer (type)                 Output Shape              Param #   \n",
            "=================================================================\n",
            "input_1 (InputLayer)         [(None, None, None, 3)]   0         \n",
            "_________________________________________________________________\n",
            "block1_conv1 (Conv2D)        (None, None, None, 64)    1792      \n",
            "_________________________________________________________________\n",
            "block1_conv2 (Conv2D)        (None, None, None, 64)    36928     \n",
            "_________________________________________________________________\n",
            "block1_pool (MaxPooling2D)   (None, None, None, 64)    0         \n",
            "_________________________________________________________________\n",
            "block2_conv1 (Conv2D)        (None, None, None, 128)   73856     \n",
            "_________________________________________________________________\n",
            "block2_conv2 (Conv2D)        (None, None, None, 128)   147584    \n",
            "_________________________________________________________________\n",
            "block2_pool (MaxPooling2D)   (None, None, None, 128)   0         \n",
            "_________________________________________________________________\n",
            "block3_conv1 (Conv2D)        (None, None, None, 256)   295168    \n",
            "_________________________________________________________________\n",
            "block3_conv2 (Conv2D)        (None, None, None, 256)   590080    \n",
            "_________________________________________________________________\n",
            "block3_conv3 (Conv2D)        (None, None, None, 256)   590080    \n",
            "_________________________________________________________________\n",
            "block3_pool (MaxPooling2D)   (None, None, None, 256)   0         \n",
            "_________________________________________________________________\n",
            "block4_conv1 (Conv2D)        (None, None, None, 512)   1180160   \n",
            "_________________________________________________________________\n",
            "block4_conv2 (Conv2D)        (None, None, None, 512)   2359808   \n",
            "_________________________________________________________________\n",
            "block4_conv3 (Conv2D)        (None, None, None, 512)   2359808   \n",
            "_________________________________________________________________\n",
            "block4_pool (MaxPooling2D)   (None, None, None, 512)   0         \n",
            "_________________________________________________________________\n",
            "block5_conv1 (Conv2D)        (None, None, None, 512)   2359808   \n",
            "_________________________________________________________________\n",
            "block5_conv2 (Conv2D)        (None, None, None, 512)   2359808   \n",
            "_________________________________________________________________\n",
            "block5_conv3 (Conv2D)        (None, None, None, 512)   2359808   \n",
            "_________________________________________________________________\n",
            "block5_pool (MaxPooling2D)   (None, None, None, 512)   0         \n",
            "_________________________________________________________________\n",
            "global_average_pooling2d (Gl (None, 512)               0         \n",
            "_________________________________________________________________\n",
            "dense (Dense)                (None, 128)               65664     \n",
            "_________________________________________________________________\n",
            "dense_1 (Dense)              (None, 1)                 129       \n",
            "=================================================================\n",
            "Total params: 14,780,481\n",
            "Trainable params: 65,793\n",
            "Non-trainable params: 14,714,688\n",
            "_________________________________________________________________\n"
          ]
        }
      ]
    },
    {
      "cell_type": "code",
      "metadata": {
        "colab": {
          "base_uri": "https://localhost:8080/"
        },
        "id": "UdK9k2WoVsmv",
        "outputId": "621f7841-ad2d-47d3-d10c-cb35f64429f4"
      },
      "source": [
        "train_ds = train_ds.flow_from_directory(train_p, target_size=(150,150), batch_size= 16, class_mode='binary')\n",
        "val_ds = val_datagen.flow_from_directory(val_p, target_size=(150,150),batch_size=8, class_mode='binary')\n",
        "test_ds = val_datagen.flow_from_directory(test_p, target_size=(150,150), batch_size=32, class_mode='binary')"
      ],
      "execution_count": 16,
      "outputs": [
        {
          "output_type": "stream",
          "name": "stdout",
          "text": [
            "Found 5216 images belonging to 2 classes.\n",
            "Found 16 images belonging to 2 classes.\n",
            "Found 624 images belonging to 2 classes.\n"
          ]
        }
      ]
    },
    {
      "cell_type": "code",
      "metadata": {
        "colab": {
          "base_uri": "https://localhost:8080/"
        },
        "id": "w_F5_RZmXJ_-",
        "outputId": "816d5946-b1fb-436a-e399-638cbc639b76"
      },
      "source": [
        "history = model.fit(train_ds, steps_per_epoch = 100, epochs=20, validation_data=val_ds)"
      ],
      "execution_count": 20,
      "outputs": [
        {
          "output_type": "stream",
          "name": "stdout",
          "text": [
            "Epoch 1/20\n",
            "100/100 [==============================] - 32s 286ms/step - loss: 2.8221 - accuracy: 0.7487 - val_loss: 0.6536 - val_accuracy: 0.5000\n",
            "Epoch 2/20\n",
            "100/100 [==============================] - 28s 276ms/step - loss: 0.3712 - accuracy: 0.8637 - val_loss: 1.3884 - val_accuracy: 0.6875\n",
            "Epoch 3/20\n",
            "100/100 [==============================] - 28s 279ms/step - loss: 0.3429 - accuracy: 0.8650 - val_loss: 0.2964 - val_accuracy: 0.8750\n",
            "Epoch 4/20\n",
            "100/100 [==============================] - 28s 282ms/step - loss: 0.2787 - accuracy: 0.8925 - val_loss: 0.4274 - val_accuracy: 0.8125\n",
            "Epoch 5/20\n",
            "100/100 [==============================] - 28s 278ms/step - loss: 0.2800 - accuracy: 0.9019 - val_loss: 0.4309 - val_accuracy: 0.7500\n",
            "Epoch 6/20\n",
            "100/100 [==============================] - 28s 275ms/step - loss: 0.2680 - accuracy: 0.8944 - val_loss: 0.2606 - val_accuracy: 0.9375\n",
            "Epoch 7/20\n",
            "100/100 [==============================] - 27s 273ms/step - loss: 0.2299 - accuracy: 0.9025 - val_loss: 0.4501 - val_accuracy: 0.7500\n",
            "Epoch 8/20\n",
            "100/100 [==============================] - 28s 278ms/step - loss: 0.3275 - accuracy: 0.8913 - val_loss: 0.4708 - val_accuracy: 0.7500\n",
            "Epoch 9/20\n",
            "100/100 [==============================] - 28s 282ms/step - loss: 0.2717 - accuracy: 0.8944 - val_loss: 0.2396 - val_accuracy: 0.9375\n",
            "Epoch 10/20\n",
            "100/100 [==============================] - 29s 287ms/step - loss: 0.2246 - accuracy: 0.9119 - val_loss: 1.7642 - val_accuracy: 0.6875\n",
            "Epoch 11/20\n",
            "100/100 [==============================] - 28s 281ms/step - loss: 0.2341 - accuracy: 0.9144 - val_loss: 0.2913 - val_accuracy: 0.8750\n",
            "Epoch 12/20\n",
            "100/100 [==============================] - 28s 281ms/step - loss: 0.2452 - accuracy: 0.9075 - val_loss: 0.8967 - val_accuracy: 0.7500\n",
            "Epoch 13/20\n",
            "100/100 [==============================] - 28s 283ms/step - loss: 0.2426 - accuracy: 0.9156 - val_loss: 1.0600 - val_accuracy: 0.6875\n",
            "Epoch 14/20\n",
            "100/100 [==============================] - 28s 279ms/step - loss: 0.1791 - accuracy: 0.9306 - val_loss: 0.2085 - val_accuracy: 0.8750\n",
            "Epoch 15/20\n",
            "100/100 [==============================] - 27s 273ms/step - loss: 0.2142 - accuracy: 0.9200 - val_loss: 0.2208 - val_accuracy: 0.8750\n",
            "Epoch 16/20\n",
            "100/100 [==============================] - 28s 279ms/step - loss: 0.2367 - accuracy: 0.9156 - val_loss: 0.3295 - val_accuracy: 0.8750\n",
            "Epoch 17/20\n",
            "100/100 [==============================] - 28s 276ms/step - loss: 0.2182 - accuracy: 0.9219 - val_loss: 1.7238 - val_accuracy: 0.6875\n",
            "Epoch 18/20\n",
            "100/100 [==============================] - 27s 273ms/step - loss: 0.2137 - accuracy: 0.9237 - val_loss: 0.1741 - val_accuracy: 0.9375\n",
            "Epoch 19/20\n",
            "100/100 [==============================] - 28s 276ms/step - loss: 0.2552 - accuracy: 0.9056 - val_loss: 0.5555 - val_accuracy: 0.8125\n",
            "Epoch 20/20\n",
            "100/100 [==============================] - 27s 271ms/step - loss: 0.1996 - accuracy: 0.9294 - val_loss: 0.5372 - val_accuracy: 0.8125\n"
          ]
        }
      ]
    },
    {
      "cell_type": "code",
      "metadata": {
        "colab": {
          "base_uri": "https://localhost:8080/"
        },
        "id": "HTf-_rWYXpYj",
        "outputId": "0f6c0d84-ed9f-4e3b-d159-545da3befa91"
      },
      "source": [
        "accuracy = model.evaluate_generator(test_ds,624)[1]\n",
        "accuracy"
      ],
      "execution_count": 21,
      "outputs": [
        {
          "output_type": "stream",
          "name": "stderr",
          "text": [
            "/usr/local/lib/python3.7/dist-packages/keras/engine/training.py:2006: UserWarning: `Model.evaluate_generator` is deprecated and will be removed in a future version. Please use `Model.evaluate`, which supports generators.\n",
            "  warnings.warn('`Model.evaluate_generator` is deprecated and '\n"
          ]
        },
        {
          "output_type": "stream",
          "name": "stdout",
          "text": [
            "WARNING:tensorflow:Your input ran out of data; interrupting training. Make sure that your dataset or generator can generate at least `steps_per_epoch * epochs` batches (in this case, 624 batches). You may need to use the repeat() function when building your dataset.\n"
          ]
        },
        {
          "output_type": "execute_result",
          "data": {
            "text/plain": [
              "0.5240384340286255"
            ]
          },
          "metadata": {},
          "execution_count": 21
        }
      ]
    },
    {
      "cell_type": "code",
      "metadata": {
        "id": "JA12bubLa7gx"
      },
      "source": [
        "for layer in model1.layers:\n",
        "    layer.trainable = True"
      ],
      "execution_count": 22,
      "outputs": []
    },
    {
      "cell_type": "code",
      "metadata": {
        "id": "AIAPMiBicyPz"
      },
      "source": [
        "lr = 1e-5\n",
        "lr_schedule = tf.keras.optimizers.schedules.ExponentialDecay(lr, decay_steps=100000, decay_rate=0.96, staircase=True)\n",
        "\n",
        "''' compile the model '''\n",
        "model.compile(optimizer=tf.keras.optimizers.RMSprop(lr_schedule), loss=keras.losses.BinaryCrossentropy(from_logits=True),\n",
        "              metrics=[keras.metrics.BinaryAccuracy()])"
      ],
      "execution_count": 23,
      "outputs": []
    },
    {
      "cell_type": "code",
      "metadata": {
        "colab": {
          "base_uri": "https://localhost:8080/"
        },
        "id": "gE4k1OEzc1Ka",
        "outputId": "abe83c7b-4b40-44e1-d0b2-6341b405d21a"
      },
      "source": [
        "checkpoint_filepath = '/tmp/checkpoint'\n",
        "model_checkpoint_callback = tf.keras.callbacks.ModelCheckpoint(\n",
        "    filepath=checkpoint_filepath,\n",
        "    save_weights_only=True,\n",
        "    monitor='val_binary_accuracy',\n",
        "    mode='max',\n",
        "    save_best_only=True)\n",
        "model.fit(train_ds, steps_per_epoch = 50, epochs=100, validation_data=val_ds, callbacks=[model_checkpoint_callback ])"
      ],
      "execution_count": 25,
      "outputs": [
        {
          "output_type": "stream",
          "name": "stdout",
          "text": [
            "Epoch 1/100\n"
          ]
        },
        {
          "output_type": "stream",
          "name": "stderr",
          "text": [
            "/usr/local/lib/python3.7/dist-packages/keras/backend.py:4994: UserWarning: \"`binary_crossentropy` received `from_logits=True`, but the `output` argument was produced by a sigmoid or softmax activation and thus does not represent logits. Was this intended?\"\n",
            "  '\"`binary_crossentropy` received `from_logits=True`, but the `output`'\n"
          ]
        },
        {
          "output_type": "stream",
          "name": "stdout",
          "text": [
            "50/50 [==============================] - 22s 341ms/step - loss: 0.2990 - binary_accuracy: 0.8925 - val_loss: 0.5228 - val_binary_accuracy: 0.7500\n",
            "Epoch 2/100\n",
            "50/50 [==============================] - 17s 337ms/step - loss: 0.1679 - binary_accuracy: 0.9262 - val_loss: 0.2169 - val_binary_accuracy: 0.8125\n",
            "Epoch 3/100\n",
            "50/50 [==============================] - 17s 330ms/step - loss: 0.1982 - binary_accuracy: 0.9337 - val_loss: 0.3070 - val_binary_accuracy: 0.8750\n",
            "Epoch 4/100\n",
            "50/50 [==============================] - 17s 331ms/step - loss: 0.1721 - binary_accuracy: 0.9262 - val_loss: 0.8767 - val_binary_accuracy: 0.7500\n",
            "Epoch 5/100\n",
            "50/50 [==============================] - 17s 330ms/step - loss: 0.1639 - binary_accuracy: 0.9400 - val_loss: 0.6055 - val_binary_accuracy: 0.7500\n",
            "Epoch 6/100\n",
            "50/50 [==============================] - 17s 342ms/step - loss: 0.1322 - binary_accuracy: 0.9563 - val_loss: 0.3518 - val_binary_accuracy: 0.8750\n",
            "Epoch 7/100\n",
            "50/50 [==============================] - 17s 337ms/step - loss: 0.1288 - binary_accuracy: 0.9588 - val_loss: 0.3779 - val_binary_accuracy: 0.8750\n",
            "Epoch 8/100\n",
            "50/50 [==============================] - 17s 333ms/step - loss: 0.1224 - binary_accuracy: 0.9563 - val_loss: 0.3031 - val_binary_accuracy: 0.9375\n",
            "Epoch 9/100\n",
            "50/50 [==============================] - 17s 332ms/step - loss: 0.1295 - binary_accuracy: 0.9563 - val_loss: 0.6147 - val_binary_accuracy: 0.7500\n",
            "Epoch 10/100\n",
            "50/50 [==============================] - 17s 333ms/step - loss: 0.1442 - binary_accuracy: 0.9475 - val_loss: 0.2163 - val_binary_accuracy: 0.8750\n",
            "Epoch 11/100\n",
            "50/50 [==============================] - 17s 331ms/step - loss: 0.1209 - binary_accuracy: 0.9625 - val_loss: 0.1920 - val_binary_accuracy: 0.8750\n",
            "Epoch 12/100\n",
            "50/50 [==============================] - 17s 328ms/step - loss: 0.0994 - binary_accuracy: 0.9663 - val_loss: 0.5392 - val_binary_accuracy: 0.7500\n",
            "Epoch 13/100\n",
            "50/50 [==============================] - 17s 333ms/step - loss: 0.1144 - binary_accuracy: 0.9638 - val_loss: 0.2266 - val_binary_accuracy: 0.9375\n",
            "Epoch 14/100\n",
            "50/50 [==============================] - 17s 339ms/step - loss: 0.1203 - binary_accuracy: 0.9575 - val_loss: 0.2415 - val_binary_accuracy: 0.9375\n",
            "Epoch 15/100\n",
            "50/50 [==============================] - 17s 344ms/step - loss: 0.1372 - binary_accuracy: 0.9538 - val_loss: 0.2198 - val_binary_accuracy: 0.8750\n",
            "Epoch 16/100\n",
            "50/50 [==============================] - 17s 337ms/step - loss: 0.1146 - binary_accuracy: 0.9575 - val_loss: 0.3022 - val_binary_accuracy: 0.8125\n",
            "Epoch 17/100\n",
            "50/50 [==============================] - 17s 342ms/step - loss: 0.1144 - binary_accuracy: 0.9638 - val_loss: 0.1985 - val_binary_accuracy: 0.8750\n",
            "Epoch 18/100\n",
            "50/50 [==============================] - 17s 343ms/step - loss: 0.1325 - binary_accuracy: 0.9563 - val_loss: 0.1994 - val_binary_accuracy: 0.9375\n",
            "Epoch 19/100\n",
            "50/50 [==============================] - 17s 342ms/step - loss: 0.1083 - binary_accuracy: 0.9638 - val_loss: 0.2039 - val_binary_accuracy: 0.9375\n",
            "Epoch 20/100\n",
            "50/50 [==============================] - 17s 343ms/step - loss: 0.1071 - binary_accuracy: 0.9638 - val_loss: 0.4721 - val_binary_accuracy: 0.7500\n",
            "Epoch 21/100\n",
            "50/50 [==============================] - 17s 339ms/step - loss: 0.1132 - binary_accuracy: 0.9650 - val_loss: 0.2433 - val_binary_accuracy: 0.8750\n",
            "Epoch 22/100\n",
            "50/50 [==============================] - 17s 333ms/step - loss: 0.0955 - binary_accuracy: 0.9688 - val_loss: 0.3747 - val_binary_accuracy: 0.8750\n",
            "Epoch 23/100\n",
            "50/50 [==============================] - 17s 337ms/step - loss: 0.1091 - binary_accuracy: 0.9563 - val_loss: 0.1662 - val_binary_accuracy: 0.9375\n",
            "Epoch 24/100\n",
            "50/50 [==============================] - 17s 342ms/step - loss: 0.1039 - binary_accuracy: 0.9675 - val_loss: 0.3241 - val_binary_accuracy: 0.8125\n",
            "Epoch 25/100\n",
            "50/50 [==============================] - 17s 343ms/step - loss: 0.0977 - binary_accuracy: 0.9737 - val_loss: 0.2751 - val_binary_accuracy: 0.8750\n",
            "Epoch 26/100\n",
            "50/50 [==============================] - 17s 338ms/step - loss: 0.1024 - binary_accuracy: 0.9700 - val_loss: 0.3231 - val_binary_accuracy: 0.8750\n",
            "Epoch 27/100\n",
            "50/50 [==============================] - 17s 336ms/step - loss: 0.0884 - binary_accuracy: 0.9750 - val_loss: 0.5256 - val_binary_accuracy: 0.6875\n",
            "Epoch 28/100\n",
            "50/50 [==============================] - 17s 346ms/step - loss: 0.1035 - binary_accuracy: 0.9638 - val_loss: 0.1565 - val_binary_accuracy: 1.0000\n",
            "Epoch 29/100\n",
            "50/50 [==============================] - 18s 351ms/step - loss: 0.1234 - binary_accuracy: 0.9638 - val_loss: 0.3660 - val_binary_accuracy: 0.8750\n",
            "Epoch 30/100\n",
            "50/50 [==============================] - 17s 333ms/step - loss: 0.0871 - binary_accuracy: 0.9737 - val_loss: 0.3581 - val_binary_accuracy: 0.8750\n",
            "Epoch 31/100\n",
            "50/50 [==============================] - 16s 327ms/step - loss: 0.0796 - binary_accuracy: 0.9787 - val_loss: 0.1407 - val_binary_accuracy: 0.9375\n",
            "Epoch 32/100\n",
            "50/50 [==============================] - 17s 333ms/step - loss: 0.1013 - binary_accuracy: 0.9663 - val_loss: 0.1436 - val_binary_accuracy: 1.0000\n",
            "Epoch 33/100\n",
            "50/50 [==============================] - 16s 327ms/step - loss: 0.0833 - binary_accuracy: 0.9750 - val_loss: 0.3108 - val_binary_accuracy: 0.9375\n",
            "Epoch 34/100\n",
            "50/50 [==============================] - 17s 335ms/step - loss: 0.0976 - binary_accuracy: 0.9737 - val_loss: 0.1663 - val_binary_accuracy: 0.8750\n",
            "Epoch 35/100\n",
            "50/50 [==============================] - 17s 335ms/step - loss: 0.0860 - binary_accuracy: 0.9762 - val_loss: 0.1671 - val_binary_accuracy: 0.9375\n",
            "Epoch 36/100\n",
            "50/50 [==============================] - 17s 329ms/step - loss: 0.0843 - binary_accuracy: 0.9750 - val_loss: 0.1703 - val_binary_accuracy: 0.9375\n",
            "Epoch 37/100\n",
            "50/50 [==============================] - 17s 327ms/step - loss: 0.0915 - binary_accuracy: 0.9688 - val_loss: 0.9752 - val_binary_accuracy: 0.6250\n",
            "Epoch 38/100\n",
            "50/50 [==============================] - 16s 326ms/step - loss: 0.0593 - binary_accuracy: 0.9875 - val_loss: 0.8705 - val_binary_accuracy: 0.6250\n",
            "Epoch 39/100\n",
            "50/50 [==============================] - 17s 337ms/step - loss: 0.1328 - binary_accuracy: 0.9688 - val_loss: 0.2292 - val_binary_accuracy: 0.8750\n",
            "Epoch 40/100\n",
            "50/50 [==============================] - 17s 327ms/step - loss: 0.0827 - binary_accuracy: 0.9737 - val_loss: 1.0716 - val_binary_accuracy: 0.6250\n",
            "Epoch 41/100\n",
            "50/50 [==============================] - 16s 318ms/step - loss: 0.0829 - binary_accuracy: 0.9688 - val_loss: 0.1660 - val_binary_accuracy: 1.0000\n",
            "Epoch 42/100\n",
            "50/50 [==============================] - 17s 337ms/step - loss: 0.0792 - binary_accuracy: 0.9737 - val_loss: 0.0902 - val_binary_accuracy: 0.9375\n",
            "Epoch 43/100\n",
            "50/50 [==============================] - 17s 336ms/step - loss: 0.0758 - binary_accuracy: 0.9775 - val_loss: 0.0805 - val_binary_accuracy: 1.0000\n",
            "Epoch 44/100\n",
            "50/50 [==============================] - 17s 337ms/step - loss: 0.0832 - binary_accuracy: 0.9775 - val_loss: 0.2249 - val_binary_accuracy: 0.8125\n",
            "Epoch 45/100\n",
            "50/50 [==============================] - 17s 333ms/step - loss: 0.0927 - binary_accuracy: 0.9725 - val_loss: 0.1349 - val_binary_accuracy: 1.0000\n",
            "Epoch 46/100\n",
            "50/50 [==============================] - 17s 341ms/step - loss: 0.0671 - binary_accuracy: 0.9812 - val_loss: 0.2112 - val_binary_accuracy: 0.9375\n",
            "Epoch 47/100\n",
            "50/50 [==============================] - 17s 332ms/step - loss: 0.0612 - binary_accuracy: 0.9800 - val_loss: 0.0990 - val_binary_accuracy: 0.9375\n",
            "Epoch 48/100\n",
            "50/50 [==============================] - 17s 336ms/step - loss: 0.0774 - binary_accuracy: 0.9737 - val_loss: 0.3267 - val_binary_accuracy: 0.7500\n",
            "Epoch 49/100\n",
            "50/50 [==============================] - 17s 331ms/step - loss: 0.0647 - binary_accuracy: 0.9800 - val_loss: 0.1114 - val_binary_accuracy: 0.9375\n",
            "Epoch 50/100\n",
            "50/50 [==============================] - 17s 339ms/step - loss: 0.0831 - binary_accuracy: 0.9750 - val_loss: 0.0614 - val_binary_accuracy: 1.0000\n",
            "Epoch 51/100\n",
            "50/50 [==============================] - 17s 335ms/step - loss: 0.0740 - binary_accuracy: 0.9762 - val_loss: 0.0642 - val_binary_accuracy: 1.0000\n",
            "Epoch 52/100\n",
            "50/50 [==============================] - 17s 342ms/step - loss: 0.0678 - binary_accuracy: 0.9812 - val_loss: 0.3338 - val_binary_accuracy: 0.8125\n",
            "Epoch 53/100\n",
            "50/50 [==============================] - 17s 333ms/step - loss: 0.0642 - binary_accuracy: 0.9800 - val_loss: 0.0348 - val_binary_accuracy: 1.0000\n",
            "Epoch 54/100\n",
            "50/50 [==============================] - 17s 333ms/step - loss: 0.0724 - binary_accuracy: 0.9762 - val_loss: 0.0566 - val_binary_accuracy: 1.0000\n",
            "Epoch 55/100\n",
            "50/50 [==============================] - 17s 336ms/step - loss: 0.0840 - binary_accuracy: 0.9737 - val_loss: 0.0458 - val_binary_accuracy: 1.0000\n",
            "Epoch 56/100\n",
            "50/50 [==============================] - 17s 334ms/step - loss: 0.0697 - binary_accuracy: 0.9700 - val_loss: 0.6918 - val_binary_accuracy: 0.6250\n",
            "Epoch 57/100\n",
            "50/50 [==============================] - 17s 345ms/step - loss: 0.0550 - binary_accuracy: 0.9787 - val_loss: 0.6397 - val_binary_accuracy: 0.6875\n",
            "Epoch 58/100\n",
            "50/50 [==============================] - 17s 332ms/step - loss: 0.0825 - binary_accuracy: 0.9700 - val_loss: 0.0954 - val_binary_accuracy: 1.0000\n",
            "Epoch 59/100\n",
            "50/50 [==============================] - 17s 331ms/step - loss: 0.0819 - binary_accuracy: 0.9775 - val_loss: 0.0400 - val_binary_accuracy: 1.0000\n",
            "Epoch 60/100\n",
            "50/50 [==============================] - 17s 337ms/step - loss: 0.0600 - binary_accuracy: 0.9762 - val_loss: 0.0328 - val_binary_accuracy: 1.0000\n",
            "Epoch 61/100\n",
            "50/50 [==============================] - 17s 335ms/step - loss: 0.0715 - binary_accuracy: 0.9775 - val_loss: 0.1305 - val_binary_accuracy: 0.9375\n",
            "Epoch 62/100\n",
            "50/50 [==============================] - 17s 341ms/step - loss: 0.0569 - binary_accuracy: 0.9787 - val_loss: 0.2316 - val_binary_accuracy: 0.8750\n",
            "Epoch 63/100\n",
            "50/50 [==============================] - 17s 338ms/step - loss: 0.0609 - binary_accuracy: 0.9837 - val_loss: 0.7213 - val_binary_accuracy: 0.8125\n",
            "Epoch 64/100\n",
            "50/50 [==============================] - 18s 350ms/step - loss: 0.0794 - binary_accuracy: 0.9737 - val_loss: 0.2391 - val_binary_accuracy: 0.8750\n",
            "Epoch 65/100\n",
            "50/50 [==============================] - 17s 342ms/step - loss: 0.0574 - binary_accuracy: 0.9812 - val_loss: 0.3531 - val_binary_accuracy: 0.8125\n",
            "Epoch 66/100\n",
            "50/50 [==============================] - 17s 342ms/step - loss: 0.0704 - binary_accuracy: 0.9837 - val_loss: 0.1359 - val_binary_accuracy: 0.9375\n",
            "Epoch 67/100\n",
            "50/50 [==============================] - 17s 344ms/step - loss: 0.0563 - binary_accuracy: 0.9812 - val_loss: 0.3935 - val_binary_accuracy: 0.8125\n",
            "Epoch 68/100\n",
            "50/50 [==============================] - 17s 337ms/step - loss: 0.0617 - binary_accuracy: 0.9775 - val_loss: 0.0823 - val_binary_accuracy: 1.0000\n",
            "Epoch 69/100\n",
            "50/50 [==============================] - 17s 335ms/step - loss: 0.0540 - binary_accuracy: 0.9825 - val_loss: 0.1881 - val_binary_accuracy: 0.9375\n",
            "Epoch 70/100\n",
            "50/50 [==============================] - 17s 332ms/step - loss: 0.0483 - binary_accuracy: 0.9800 - val_loss: 0.3375 - val_binary_accuracy: 0.8125\n",
            "Epoch 71/100\n",
            "50/50 [==============================] - 17s 337ms/step - loss: 0.0295 - binary_accuracy: 0.9875 - val_loss: 0.2428 - val_binary_accuracy: 0.9375\n",
            "Epoch 72/100\n",
            "50/50 [==============================] - 17s 337ms/step - loss: 0.0640 - binary_accuracy: 0.9787 - val_loss: 0.0621 - val_binary_accuracy: 1.0000\n",
            "Epoch 73/100\n",
            "50/50 [==============================] - 17s 341ms/step - loss: 0.0631 - binary_accuracy: 0.9787 - val_loss: 0.1751 - val_binary_accuracy: 0.8750\n",
            "Epoch 74/100\n",
            "50/50 [==============================] - 17s 333ms/step - loss: 0.0368 - binary_accuracy: 0.9887 - val_loss: 0.1091 - val_binary_accuracy: 0.9375\n",
            "Epoch 75/100\n",
            "50/50 [==============================] - 17s 339ms/step - loss: 0.0516 - binary_accuracy: 0.9787 - val_loss: 0.7452 - val_binary_accuracy: 0.6875\n",
            "Epoch 76/100\n",
            "50/50 [==============================] - 17s 333ms/step - loss: 0.0522 - binary_accuracy: 0.9837 - val_loss: 0.0846 - val_binary_accuracy: 0.9375\n",
            "Epoch 77/100\n",
            "50/50 [==============================] - 18s 347ms/step - loss: 0.0321 - binary_accuracy: 0.9875 - val_loss: 1.7090 - val_binary_accuracy: 0.6250\n",
            "Epoch 78/100\n",
            "50/50 [==============================] - 17s 345ms/step - loss: 0.0501 - binary_accuracy: 0.9825 - val_loss: 0.8168 - val_binary_accuracy: 0.6875\n",
            "Epoch 79/100\n",
            "50/50 [==============================] - 18s 347ms/step - loss: 0.0724 - binary_accuracy: 0.9737 - val_loss: 0.1298 - val_binary_accuracy: 0.9375\n",
            "Epoch 80/100\n",
            "50/50 [==============================] - 18s 347ms/step - loss: 0.0530 - binary_accuracy: 0.9812 - val_loss: 0.2677 - val_binary_accuracy: 0.8750\n",
            "Epoch 81/100\n",
            "50/50 [==============================] - 17s 334ms/step - loss: 0.0443 - binary_accuracy: 0.9812 - val_loss: 0.0723 - val_binary_accuracy: 1.0000\n",
            "Epoch 82/100\n",
            "50/50 [==============================] - 17s 336ms/step - loss: 0.0493 - binary_accuracy: 0.9825 - val_loss: 0.2428 - val_binary_accuracy: 0.8750\n",
            "Epoch 83/100\n",
            "50/50 [==============================] - 17s 341ms/step - loss: 0.0772 - binary_accuracy: 0.9762 - val_loss: 0.2176 - val_binary_accuracy: 0.9375\n",
            "Epoch 84/100\n",
            "50/50 [==============================] - 17s 333ms/step - loss: 0.0486 - binary_accuracy: 0.9887 - val_loss: 0.0945 - val_binary_accuracy: 0.9375\n",
            "Epoch 85/100\n",
            "50/50 [==============================] - 17s 335ms/step - loss: 0.0362 - binary_accuracy: 0.9850 - val_loss: 0.0736 - val_binary_accuracy: 0.9375\n",
            "Epoch 86/100\n",
            "50/50 [==============================] - 17s 329ms/step - loss: 0.0470 - binary_accuracy: 0.9887 - val_loss: 0.6416 - val_binary_accuracy: 0.7500\n",
            "Epoch 87/100\n",
            "50/50 [==============================] - 17s 337ms/step - loss: 0.0945 - binary_accuracy: 0.9712 - val_loss: 0.0618 - val_binary_accuracy: 1.0000\n",
            "Epoch 88/100\n",
            "50/50 [==============================] - 17s 329ms/step - loss: 0.0522 - binary_accuracy: 0.9787 - val_loss: 0.0467 - val_binary_accuracy: 1.0000\n",
            "Epoch 89/100\n",
            "50/50 [==============================] - 17s 329ms/step - loss: 0.0536 - binary_accuracy: 0.9887 - val_loss: 0.2689 - val_binary_accuracy: 0.8750\n",
            "Epoch 90/100\n",
            "50/50 [==============================] - 17s 330ms/step - loss: 0.0496 - binary_accuracy: 0.9837 - val_loss: 0.2487 - val_binary_accuracy: 0.8750\n",
            "Epoch 91/100\n",
            "50/50 [==============================] - 17s 336ms/step - loss: 0.0583 - binary_accuracy: 0.9787 - val_loss: 0.9761 - val_binary_accuracy: 0.6250\n",
            "Epoch 92/100\n",
            "50/50 [==============================] - 17s 338ms/step - loss: 0.0459 - binary_accuracy: 0.9812 - val_loss: 0.0370 - val_binary_accuracy: 1.0000\n",
            "Epoch 93/100\n",
            "50/50 [==============================] - 17s 338ms/step - loss: 0.0437 - binary_accuracy: 0.9837 - val_loss: 0.1540 - val_binary_accuracy: 0.9375\n",
            "Epoch 94/100\n",
            "50/50 [==============================] - 17s 334ms/step - loss: 0.0500 - binary_accuracy: 0.9825 - val_loss: 0.0851 - val_binary_accuracy: 1.0000\n",
            "Epoch 95/100\n",
            "50/50 [==============================] - 17s 339ms/step - loss: 0.0210 - binary_accuracy: 0.9925 - val_loss: 0.0402 - val_binary_accuracy: 1.0000\n",
            "Epoch 96/100\n",
            "50/50 [==============================] - 17s 336ms/step - loss: 0.0722 - binary_accuracy: 0.9787 - val_loss: 0.0721 - val_binary_accuracy: 1.0000\n",
            "Epoch 97/100\n",
            "50/50 [==============================] - 17s 333ms/step - loss: 0.0406 - binary_accuracy: 0.9825 - val_loss: 0.1709 - val_binary_accuracy: 0.8750\n",
            "Epoch 98/100\n",
            "50/50 [==============================] - 17s 337ms/step - loss: 0.0495 - binary_accuracy: 0.9837 - val_loss: 0.0951 - val_binary_accuracy: 1.0000\n",
            "Epoch 99/100\n",
            "50/50 [==============================] - 17s 333ms/step - loss: 0.0393 - binary_accuracy: 0.9837 - val_loss: 0.0567 - val_binary_accuracy: 1.0000\n",
            "Epoch 100/100\n",
            "50/50 [==============================] - 17s 338ms/step - loss: 0.0441 - binary_accuracy: 0.9862 - val_loss: 0.0221 - val_binary_accuracy: 1.0000\n"
          ]
        },
        {
          "output_type": "execute_result",
          "data": {
            "text/plain": [
              "<keras.callbacks.History at 0x7f59d0263c10>"
            ]
          },
          "metadata": {},
          "execution_count": 25
        }
      ]
    },
    {
      "cell_type": "code",
      "metadata": {
        "id": "ILW37k_Yc3lz",
        "colab": {
          "base_uri": "https://localhost:8080/"
        },
        "outputId": "6d17db10-5cee-43c6-b766-9961052b5dbf"
      },
      "source": [
        "final_acc = model.evaluate_generator(test_ds,624)[1]\n",
        "final_acc"
      ],
      "execution_count": 26,
      "outputs": [
        {
          "output_type": "stream",
          "name": "stderr",
          "text": [
            "/usr/local/lib/python3.7/dist-packages/keras/engine/training.py:2006: UserWarning: `Model.evaluate_generator` is deprecated and will be removed in a future version. Please use `Model.evaluate`, which supports generators.\n",
            "  warnings.warn('`Model.evaluate_generator` is deprecated and '\n"
          ]
        },
        {
          "output_type": "stream",
          "name": "stdout",
          "text": [
            "WARNING:tensorflow:Your input ran out of data; interrupting training. Make sure that your dataset or generator can generate at least `steps_per_epoch * epochs` batches (in this case, 624 batches). You may need to use the repeat() function when building your dataset.\n"
          ]
        },
        {
          "output_type": "execute_result",
          "data": {
            "text/plain": [
              "0.9246794581413269"
            ]
          },
          "metadata": {},
          "execution_count": 26
        }
      ]
    },
    {
      "cell_type": "code",
      "metadata": {
        "colab": {
          "base_uri": "https://localhost:8080/",
          "height": 311
        },
        "id": "2mEQmv49Eqgt",
        "outputId": "1dea627b-c68b-4d8e-d641-e055890bba50"
      },
      "source": [
        "plt.figure(figsize=(15,10))\n",
        "plt.subplot(2, 2, 1)\n",
        "plt.plot(history.history['accuracy'], label = \"Training accuracy\")\n",
        "plt.plot(history.history['val_accuracy'], label=\"Validation accuracy\")\n",
        "plt.legend()\n",
        "plt.title(\"Training vs validation accuracy\")\n",
        "\n",
        "plt.subplot(2,2,2)\n",
        "plt.plot(history.history['loss'], label = \"Training loss\")\n",
        "plt.plot(history.history['val_loss'], label=\"Validation loss\")\n",
        "plt.legend()\n",
        "plt.title(\"Training vs validation loss\")\n",
        "\n",
        "plt.show()"
      ],
      "execution_count": 27,
      "outputs": [
        {
          "output_type": "display_data",
          "data": {
            "image/png": "[encoded data removed]",
            "text/plain": [
              "<Figure size 1080x720 with 2 Axes>"
            ]
          },
          "metadata": {
            "needs_background": "light"
          }
        }
      ]
    },
    {
      "cell_type": "code",
      "metadata": {
        "id": "Of7L8J88ExJB"
      },
      "source": [
        ""
      ],
      "execution_count": 27,
      "outputs": []
    }
  ]
}